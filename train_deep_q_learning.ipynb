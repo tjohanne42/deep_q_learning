{
  "nbformat": 4,
  "nbformat_minor": 0,
  "metadata": {
    "colab": {
      "name": "train_deep_q_learning.ipynb",
      "provenance": [],
      "collapsed_sections": [],
      "authorship_tag": "ABX9TyMMZl2WTRJpKFScNfo2C7Hw",
      "include_colab_link": true
    },
    "kernelspec": {
      "name": "python3",
      "display_name": "Python 3"
    },
    "language_info": {
      "name": "python"
    },
    "accelerator": "GPU"
  },
  "cells": [
    {
      "cell_type": "markdown",
      "metadata": {
        "id": "view-in-github",
        "colab_type": "text"
      },
      "source": [
        "<a href=\"https://colab.research.google.com/github/tjohanne42/deep_q_learning/blob/main/train_deep_q_learning.ipynb\" target=\"_parent\"><img src=\"https://colab.research.google.com/assets/colab-badge.svg\" alt=\"Open In Colab\"/></a>"
      ]
    },
    {
      "cell_type": "code",
      "metadata": {
        "colab": {
          "base_uri": "https://localhost:8080/"
        },
        "id": "5G9MJewr9xy4",
        "outputId": "a65074a9-9c00-42c9-e049-9c7bb1d336ce"
      },
      "source": [
        "!git clone https://github.com/tjohanne42/deep_q_learning.git\n",
        "!ls"
      ],
      "execution_count": 5,
      "outputs": [
        {
          "output_type": "stream",
          "name": "stdout",
          "text": [
            "Cloning into 'deep_q_learning'...\n",
            "remote: Enumerating objects: 9, done.\u001b[K\n",
            "remote: Counting objects: 100% (9/9), done.\u001b[K\n",
            "remote: Compressing objects: 100% (6/6), done.\u001b[K\n",
            "remote: Total 9 (delta 0), reused 6 (delta 0), pack-reused 0\u001b[K\n",
            "Unpacking objects: 100% (9/9), done.\n"
          ]
        }
      ]
    },
    {
      "cell_type": "code",
      "metadata": {
        "colab": {
          "base_uri": "https://localhost:8080/"
        },
        "id": "78Qaeds3-TD6",
        "outputId": "bde77d0d-f0f5-4c24-a57b-6178b4481933"
      },
      "source": [
        "!pip install Box2d\n",
        "!pip install box2d-py"
      ],
      "execution_count": 13,
      "outputs": [
        {
          "output_type": "stream",
          "name": "stdout",
          "text": [
            "Collecting Box2d\n",
            "  Downloading Box2D-2.3.10-cp37-cp37m-manylinux1_x86_64.whl (1.3 MB)\n",
            "\u001b[?25l\r\u001b[K     |▎                               | 10 kB 29.7 MB/s eta 0:00:01\r\u001b[K     |▌                               | 20 kB 26.0 MB/s eta 0:00:01\r\u001b[K     |▊                               | 30 kB 12.2 MB/s eta 0:00:01\r\u001b[K     |█                               | 40 kB 9.6 MB/s eta 0:00:01\r\u001b[K     |█▎                              | 51 kB 4.5 MB/s eta 0:00:01\r\u001b[K     |█▌                              | 61 kB 4.9 MB/s eta 0:00:01\r\u001b[K     |█▊                              | 71 kB 4.6 MB/s eta 0:00:01\r\u001b[K     |██                              | 81 kB 5.2 MB/s eta 0:00:01\r\u001b[K     |██▎                             | 92 kB 5.1 MB/s eta 0:00:01\r\u001b[K     |██▌                             | 102 kB 4.3 MB/s eta 0:00:01\r\u001b[K     |██▊                             | 112 kB 4.3 MB/s eta 0:00:01\r\u001b[K     |███                             | 122 kB 4.3 MB/s eta 0:00:01\r\u001b[K     |███▏                            | 133 kB 4.3 MB/s eta 0:00:01\r\u001b[K     |███▌                            | 143 kB 4.3 MB/s eta 0:00:01\r\u001b[K     |███▊                            | 153 kB 4.3 MB/s eta 0:00:01\r\u001b[K     |████                            | 163 kB 4.3 MB/s eta 0:00:01\r\u001b[K     |████▏                           | 174 kB 4.3 MB/s eta 0:00:01\r\u001b[K     |████▌                           | 184 kB 4.3 MB/s eta 0:00:01\r\u001b[K     |████▊                           | 194 kB 4.3 MB/s eta 0:00:01\r\u001b[K     |█████                           | 204 kB 4.3 MB/s eta 0:00:01\r\u001b[K     |█████▏                          | 215 kB 4.3 MB/s eta 0:00:01\r\u001b[K     |█████▌                          | 225 kB 4.3 MB/s eta 0:00:01\r\u001b[K     |█████▊                          | 235 kB 4.3 MB/s eta 0:00:01\r\u001b[K     |██████                          | 245 kB 4.3 MB/s eta 0:00:01\r\u001b[K     |██████▏                         | 256 kB 4.3 MB/s eta 0:00:01\r\u001b[K     |██████▍                         | 266 kB 4.3 MB/s eta 0:00:01\r\u001b[K     |██████▊                         | 276 kB 4.3 MB/s eta 0:00:01\r\u001b[K     |███████                         | 286 kB 4.3 MB/s eta 0:00:01\r\u001b[K     |███████▏                        | 296 kB 4.3 MB/s eta 0:00:01\r\u001b[K     |███████▍                        | 307 kB 4.3 MB/s eta 0:00:01\r\u001b[K     |███████▊                        | 317 kB 4.3 MB/s eta 0:00:01\r\u001b[K     |████████                        | 327 kB 4.3 MB/s eta 0:00:01\r\u001b[K     |████████▏                       | 337 kB 4.3 MB/s eta 0:00:01\r\u001b[K     |████████▍                       | 348 kB 4.3 MB/s eta 0:00:01\r\u001b[K     |████████▊                       | 358 kB 4.3 MB/s eta 0:00:01\r\u001b[K     |█████████                       | 368 kB 4.3 MB/s eta 0:00:01\r\u001b[K     |█████████▏                      | 378 kB 4.3 MB/s eta 0:00:01\r\u001b[K     |█████████▍                      | 389 kB 4.3 MB/s eta 0:00:01\r\u001b[K     |█████████▋                      | 399 kB 4.3 MB/s eta 0:00:01\r\u001b[K     |██████████                      | 409 kB 4.3 MB/s eta 0:00:01\r\u001b[K     |██████████▏                     | 419 kB 4.3 MB/s eta 0:00:01\r\u001b[K     |██████████▍                     | 430 kB 4.3 MB/s eta 0:00:01\r\u001b[K     |██████████▋                     | 440 kB 4.3 MB/s eta 0:00:01\r\u001b[K     |███████████                     | 450 kB 4.3 MB/s eta 0:00:01\r\u001b[K     |███████████▏                    | 460 kB 4.3 MB/s eta 0:00:01\r\u001b[K     |███████████▍                    | 471 kB 4.3 MB/s eta 0:00:01\r\u001b[K     |███████████▋                    | 481 kB 4.3 MB/s eta 0:00:01\r\u001b[K     |████████████                    | 491 kB 4.3 MB/s eta 0:00:01\r\u001b[K     |████████████▏                   | 501 kB 4.3 MB/s eta 0:00:01\r\u001b[K     |████████████▍                   | 512 kB 4.3 MB/s eta 0:00:01\r\u001b[K     |████████████▋                   | 522 kB 4.3 MB/s eta 0:00:01\r\u001b[K     |████████████▉                   | 532 kB 4.3 MB/s eta 0:00:01\r\u001b[K     |█████████████▏                  | 542 kB 4.3 MB/s eta 0:00:01\r\u001b[K     |█████████████▍                  | 552 kB 4.3 MB/s eta 0:00:01\r\u001b[K     |█████████████▋                  | 563 kB 4.3 MB/s eta 0:00:01\r\u001b[K     |█████████████▉                  | 573 kB 4.3 MB/s eta 0:00:01\r\u001b[K     |██████████████▏                 | 583 kB 4.3 MB/s eta 0:00:01\r\u001b[K     |██████████████▍                 | 593 kB 4.3 MB/s eta 0:00:01\r\u001b[K     |██████████████▋                 | 604 kB 4.3 MB/s eta 0:00:01\r\u001b[K     |██████████████▉                 | 614 kB 4.3 MB/s eta 0:00:01\r\u001b[K     |███████████████▏                | 624 kB 4.3 MB/s eta 0:00:01\r\u001b[K     |███████████████▍                | 634 kB 4.3 MB/s eta 0:00:01\r\u001b[K     |███████████████▋                | 645 kB 4.3 MB/s eta 0:00:01\r\u001b[K     |███████████████▉                | 655 kB 4.3 MB/s eta 0:00:01\r\u001b[K     |████████████████                | 665 kB 4.3 MB/s eta 0:00:01\r\u001b[K     |████████████████▍               | 675 kB 4.3 MB/s eta 0:00:01\r\u001b[K     |████████████████▋               | 686 kB 4.3 MB/s eta 0:00:01\r\u001b[K     |████████████████▉               | 696 kB 4.3 MB/s eta 0:00:01\r\u001b[K     |█████████████████               | 706 kB 4.3 MB/s eta 0:00:01\r\u001b[K     |█████████████████▍              | 716 kB 4.3 MB/s eta 0:00:01\r\u001b[K     |█████████████████▋              | 727 kB 4.3 MB/s eta 0:00:01\r\u001b[K     |█████████████████▉              | 737 kB 4.3 MB/s eta 0:00:01\r\u001b[K     |██████████████████              | 747 kB 4.3 MB/s eta 0:00:01\r\u001b[K     |██████████████████▎             | 757 kB 4.3 MB/s eta 0:00:01\r\u001b[K     |██████████████████▋             | 768 kB 4.3 MB/s eta 0:00:01\r\u001b[K     |██████████████████▉             | 778 kB 4.3 MB/s eta 0:00:01\r\u001b[K     |███████████████████             | 788 kB 4.3 MB/s eta 0:00:01\r\u001b[K     |███████████████████▎            | 798 kB 4.3 MB/s eta 0:00:01\r\u001b[K     |███████████████████▋            | 808 kB 4.3 MB/s eta 0:00:01\r\u001b[K     |███████████████████▉            | 819 kB 4.3 MB/s eta 0:00:01\r\u001b[K     |████████████████████            | 829 kB 4.3 MB/s eta 0:00:01\r\u001b[K     |████████████████████▎           | 839 kB 4.3 MB/s eta 0:00:01\r\u001b[K     |████████████████████▋           | 849 kB 4.3 MB/s eta 0:00:01\r\u001b[K     |████████████████████▉           | 860 kB 4.3 MB/s eta 0:00:01\r\u001b[K     |█████████████████████           | 870 kB 4.3 MB/s eta 0:00:01\r\u001b[K     |█████████████████████▎          | 880 kB 4.3 MB/s eta 0:00:01\r\u001b[K     |█████████████████████▌          | 890 kB 4.3 MB/s eta 0:00:01\r\u001b[K     |█████████████████████▉          | 901 kB 4.3 MB/s eta 0:00:01\r\u001b[K     |██████████████████████          | 911 kB 4.3 MB/s eta 0:00:01\r\u001b[K     |██████████████████████▎         | 921 kB 4.3 MB/s eta 0:00:01\r\u001b[K     |██████████████████████▌         | 931 kB 4.3 MB/s eta 0:00:01\r\u001b[K     |██████████████████████▉         | 942 kB 4.3 MB/s eta 0:00:01\r\u001b[K     |███████████████████████         | 952 kB 4.3 MB/s eta 0:00:01\r\u001b[K     |███████████████████████▎        | 962 kB 4.3 MB/s eta 0:00:01\r\u001b[K     |███████████████████████▌        | 972 kB 4.3 MB/s eta 0:00:01\r\u001b[K     |███████████████████████▉        | 983 kB 4.3 MB/s eta 0:00:01\r\u001b[K     |████████████████████████        | 993 kB 4.3 MB/s eta 0:00:01\r\u001b[K     |████████████████████████▎       | 1.0 MB 4.3 MB/s eta 0:00:01\r\u001b[K     |████████████████████████▌       | 1.0 MB 4.3 MB/s eta 0:00:01\r\u001b[K     |████████████████████████▊       | 1.0 MB 4.3 MB/s eta 0:00:01\r\u001b[K     |█████████████████████████       | 1.0 MB 4.3 MB/s eta 0:00:01\r\u001b[K     |█████████████████████████▎      | 1.0 MB 4.3 MB/s eta 0:00:01\r\u001b[K     |█████████████████████████▌      | 1.1 MB 4.3 MB/s eta 0:00:01\r\u001b[K     |█████████████████████████▊      | 1.1 MB 4.3 MB/s eta 0:00:01\r\u001b[K     |██████████████████████████      | 1.1 MB 4.3 MB/s eta 0:00:01\r\u001b[K     |██████████████████████████▎     | 1.1 MB 4.3 MB/s eta 0:00:01\r\u001b[K     |██████████████████████████▌     | 1.1 MB 4.3 MB/s eta 0:00:01\r\u001b[K     |██████████████████████████▊     | 1.1 MB 4.3 MB/s eta 0:00:01\r\u001b[K     |███████████████████████████     | 1.1 MB 4.3 MB/s eta 0:00:01\r\u001b[K     |███████████████████████████▎    | 1.1 MB 4.3 MB/s eta 0:00:01\r\u001b[K     |███████████████████████████▌    | 1.1 MB 4.3 MB/s eta 0:00:01\r\u001b[K     |███████████████████████████▊    | 1.1 MB 4.3 MB/s eta 0:00:01\r\u001b[K     |████████████████████████████    | 1.2 MB 4.3 MB/s eta 0:00:01\r\u001b[K     |████████████████████████████▎   | 1.2 MB 4.3 MB/s eta 0:00:01\r\u001b[K     |████████████████████████████▌   | 1.2 MB 4.3 MB/s eta 0:00:01\r\u001b[K     |████████████████████████████▊   | 1.2 MB 4.3 MB/s eta 0:00:01\r\u001b[K     |█████████████████████████████   | 1.2 MB 4.3 MB/s eta 0:00:01\r\u001b[K     |█████████████████████████████▎  | 1.2 MB 4.3 MB/s eta 0:00:01\r\u001b[K     |█████████████████████████████▌  | 1.2 MB 4.3 MB/s eta 0:00:01\r\u001b[K     |█████████████████████████████▊  | 1.2 MB 4.3 MB/s eta 0:00:01\r\u001b[K     |██████████████████████████████  | 1.2 MB 4.3 MB/s eta 0:00:01\r\u001b[K     |██████████████████████████████▎ | 1.2 MB 4.3 MB/s eta 0:00:01\r\u001b[K     |██████████████████████████████▌ | 1.3 MB 4.3 MB/s eta 0:00:01\r\u001b[K     |██████████████████████████████▊ | 1.3 MB 4.3 MB/s eta 0:00:01\r\u001b[K     |███████████████████████████████ | 1.3 MB 4.3 MB/s eta 0:00:01\r\u001b[K     |███████████████████████████████▏| 1.3 MB 4.3 MB/s eta 0:00:01\r\u001b[K     |███████████████████████████████▌| 1.3 MB 4.3 MB/s eta 0:00:01\r\u001b[K     |███████████████████████████████▊| 1.3 MB 4.3 MB/s eta 0:00:01\r\u001b[K     |████████████████████████████████| 1.3 MB 4.3 MB/s eta 0:00:01\r\u001b[K     |████████████████████████████████| 1.3 MB 4.3 MB/s \n",
            "\u001b[?25hInstalling collected packages: Box2d\n",
            "Successfully installed Box2d-2.3.10\n",
            "Requirement already satisfied: box2d-py in /usr/local/lib/python3.7/dist-packages (2.3.8)\n"
          ]
        }
      ]
    },
    {
      "cell_type": "code",
      "metadata": {
        "colab": {
          "base_uri": "https://localhost:8080/"
        },
        "id": "lDcgd7e4-oBR",
        "outputId": "a9bf4a99-e44a-47d5-80da-307870e64f10"
      },
      "source": [
        "!pip show box2d-py"
      ],
      "execution_count": 11,
      "outputs": [
        {
          "output_type": "stream",
          "name": "stdout",
          "text": [
            "Name: box2d-py\n",
            "Version: 2.3.8\n",
            "Summary: Python Box2D\n",
            "Home-page: https://github.com/openai/box2d-py\n",
            "Author: Ken Lauer\n",
            "Author-email: sirkne@gmail.com\n",
            "License: zlib\n",
            "Location: /usr/local/lib/python3.7/dist-packages\n",
            "Requires: \n",
            "Required-by: \n"
          ]
        }
      ]
    },
    {
      "cell_type": "code",
      "metadata": {
        "colab": {
          "base_uri": "https://localhost:8080/",
          "height": 497
        },
        "id": "P7aj6lzx93Tp",
        "outputId": "3b52d84a-a0e8-47d4-9fdc-c163011668f1"
      },
      "source": [
        "import os\n",
        "# for keras the CUDA commands must come before importing the keras libraries\n",
        "os.environ['CUDA_DEVICE_ORDER'] = 'PCI_BUS_ID'\n",
        "os.environ['CUDA_VISIBLE_DEVICES'] = '0'\n",
        "os.environ['TF_FORCE_GPU_ALLOW_GROWTH'] = 'true'\n",
        "import gym\n",
        "from gym import wrappers\n",
        "import numpy as np\n",
        "from deep_q_learning.ddqn import DDQNAgent\n",
        "from deep_q_learning.utils import plotLearning"
      ],
      "execution_count": 1,
      "outputs": [
        {
          "output_type": "stream",
          "name": "stderr",
          "text": [
            "/usr/local/lib/python3.7/dist-packages/keras/optimizer_v2/optimizer_v2.py:356: UserWarning: The `lr` argument is deprecated, use `learning_rate` instead.\n",
            "  \"The `lr` argument is deprecated, use `learning_rate` instead.\")\n"
          ]
        },
        {
          "output_type": "stream",
          "name": "stdout",
          "text": [
            "episode:  0 score: -301.00  average score -301.00\n",
            "episode:  1 score: -131.34  average score -216.17\n",
            "episode:  2 score: -151.65  average score -194.67\n",
            "episode:  3 score: -489.36  average score -268.34\n",
            "episode:  4 score: -128.27  average score -240.33\n",
            "episode:  5 score: -138.04  average score -223.28\n",
            "episode:  6 score: -153.36  average score -213.29\n",
            "episode:  7 score: -404.23  average score -237.16\n",
            "episode:  8 score: -135.99  average score -225.92\n",
            "episode:  9 score: -163.97  average score -219.72\n"
          ]
        },
        {
          "output_type": "display_data",
          "data": {
            "image/png": "[encoded data removed]",
            "text/plain": [
              "<Figure size 432x288 with 2 Axes>"
            ]
          },
          "metadata": {}
        }
      ]
    },
    {
      "cell_type": "code",
      "metadata": {
        "colab": {
          "base_uri": "https://localhost:8080/"
        },
        "id": "ZOD7MU30_wti",
        "outputId": "470be27d-8bda-41b7-e5ad-3563ae0f5127"
      },
      "source": [
        "env = gym.make('LunarLander-v2')\n",
        "ddqn_agent = DDQNAgent(alpha=0.0005, gamma=0.99, n_actions=4, epsilon=1.0,\n",
        "              batch_size=64, input_dims=8)\n",
        "n_games = 501\n",
        "ddqn_agent.load_model()\n",
        "ddqn_scores = []\n",
        "eps_history = []\n",
        "# env = wrappers.Monitor(env, \"tmp/lunar-lander-ddqn-2\",\n",
        "#                         video_callable=lambda episode_id: True, force=True)\n",
        "\n",
        "for i in range(n_games):\n",
        "    done = False\n",
        "    score = 0\n",
        "    observation = env.reset()\n",
        "    while not done:\n",
        "        action = ddqn_agent.choose_action(observation)\n",
        "        observation_, reward, done, info = env.step(action)\n",
        "        score += reward\n",
        "        ddqn_agent.remember(observation, action, reward, observation_, int(done))\n",
        "        observation = observation_\n",
        "        ddqn_agent.learn()\n",
        "    eps_history.append(ddqn_agent.epsilon)\n",
        "\n",
        "    ddqn_scores.append(score)\n",
        "\n",
        "    avg_score = np.mean(ddqn_scores[max(0, i-100):(i+1)])\n",
        "    print('episode: ', i,'score: %.2f' % score,\n",
        "          ' average score %.2f' % avg_score)\n",
        "\n",
        "    if i % 10 == 0 and i > 0:\n",
        "        ddqn_agent.save_model()\n",
        "\n",
        "filename = 'lunarlander-ddqn.png'\n",
        "\n",
        "x = [i+1 for i in range(n_games)]\n",
        "plotLearning(x, ddqn_scores, eps_history, filename)"
      ],
      "execution_count": null,
      "outputs": [
        {
          "metadata": {
            "tags": null
          },
          "name": "stderr",
          "output_type": "stream",
          "text": [
            "/usr/local/lib/python3.7/dist-packages/keras/optimizer_v2/optimizer_v2.py:356: UserWarning: The `lr` argument is deprecated, use `learning_rate` instead.\n",
            "  \"The `lr` argument is deprecated, use `learning_rate` instead.\")\n"
          ]
        },
        {
          "output_type": "stream",
          "name": "stdout",
          "text": [
            "episode:  0 score: 2.55  average score 2.55\n",
            "episode:  1 score: -120.77  average score -59.11\n",
            "episode:  2 score: -96.44  average score -71.55\n",
            "episode:  3 score: -50.79  average score -66.36\n",
            "episode:  4 score: -264.48  average score -105.99\n",
            "episode:  5 score: -557.75  average score -181.28\n",
            "episode:  6 score: -20.67  average score -158.34\n",
            "episode:  7 score: -57.81  average score -145.77\n",
            "episode:  8 score: -277.98  average score -160.46\n",
            "episode:  9 score: -182.34  average score -162.65\n",
            "episode:  10 score: -105.73  average score -157.47\n",
            "episode:  11 score: -162.52  average score -157.89\n",
            "episode:  12 score: -143.39  average score -156.78\n",
            "episode:  13 score: -95.86  average score -152.43\n",
            "episode:  14 score: -112.10  average score -149.74\n",
            "episode:  15 score: -132.54  average score -148.66\n",
            "episode:  16 score: -135.47  average score -147.89\n",
            "episode:  17 score: -69.75  average score -143.55\n",
            "episode:  18 score: -142.99  average score -143.52\n",
            "episode:  19 score: -103.69  average score -141.53\n",
            "episode:  20 score: -136.41  average score -141.28\n"
          ]
        }
      ]
    },
    {
      "cell_type": "code",
      "metadata": {
        "id": "J9yDWCpvFotW"
      },
      "source": [
        "filename = 'lunarlander-ddqn.png'\n",
        "\n",
        "x = [i+1 for i in range(n_games)]\n",
        "plotLearning(x, ddqn_scores, eps_history, filename)"
      ],
      "execution_count": null,
      "outputs": []
    }
  ]
}